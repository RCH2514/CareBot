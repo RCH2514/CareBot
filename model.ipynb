{
 "cells": [
  {
   "cell_type": "code",
   "execution_count": null,
   "metadata": {},
   "outputs": [
    {
     "name": "stdout",
     "output_type": "stream",
     "text": [
      "Random Forest Accuracy: 80.59%\n"
     ]
    },
    {
     "data": {
      "text/plain": [
       "'try:\\n    result = predictDisease(\"depression,sharp chest pain\")\\n    print(result)\\nexcept ValueError as e:\\n    print(e)'"
      ]
     },
     "execution_count": 4,
     "metadata": {},
     "output_type": "execute_result"
    }
   ],
   "source": [
    "\n",
    "from scipy import stats\n",
    "import pandas as pd\n",
    "import numpy as np\n",
    "from sklearn.ensemble import RandomForestClassifier\n",
    "from sklearn.metrics import accuracy_score\n",
    "from sklearn.preprocessing import LabelEncoder\n",
    "from sklearn.model_selection import train_test_split\n",
    "data = pd.read_csv(\"downsampled_data.csv\").dropna(axis=1)\n",
    "\n",
    "encoder = LabelEncoder()\n",
    "x = data.iloc[:, 1:] \n",
    "y = encoder.fit_transform(data.iloc[:, 0]) \n",
    "x_train, x_test, y_train, y_test = train_test_split(x, y, test_size=0.2, random_state=42)\n",
    "rf_models = []\n",
    "rf_model = RandomForestClassifier(n_estimators=100, random_state=42)\n",
    "\n",
    "    \n",
    "\n",
    "rf_model.fit(x_train, y_train)\n",
    "\n",
    "y_pred_rf = rf_model.predict(x_test)\n",
    "accuracy_rf = accuracy_score(y_test, y_pred_rf) * 100\n",
    "print(f\"Random Forest Accuracy: {accuracy_rf:.2f}%\")\n",
    "\n"
   ]
  },
  {
   "cell_type": "code",
   "execution_count": null,
   "metadata": {},
   "outputs": [
    {
     "name": "stdout",
     "output_type": "stream",
     "text": [
      "drug abuse (cocaine)\n"
     ]
    },
    {
     "name": "stderr",
     "output_type": "stream",
     "text": [
      "C:\\Users\\med chouchen\\AppData\\Roaming\\Python\\Python313\\site-packages\\sklearn\\utils\\validation.py:2739: UserWarning: X does not have valid feature names, but RandomForestClassifier was fitted with feature names\n",
      "  warnings.warn(\n"
     ]
    }
   ],
   "source": [
    "\n",
    "symptoms = x.columns.values\n",
    "symptom_index = {}\n",
    "for index, value in enumerate(symptoms):\n",
    "    symptom_index[value] = index\n",
    "data_dict = {\n",
    "    \"symptom_index\": symptom_index,\n",
    "    \"predictions_classes\": encoder.classes_,\n",
    "}\n",
    "\n",
    "def predictDisease(symptoms):\n",
    "    symptoms = symptoms.split(\",\")\n",
    "    input_data = [0] * len(data_dict[\"symptom_index\"])\n",
    "    for symptom in symptoms:\n",
    "        symptom = symptom.strip()\n",
    "        if symptom in data_dict[\"symptom_index\"]:\n",
    "            index = data_dict[\"symptom_index\"][symptom]\n",
    "            input_data[index] = 1\n",
    "        else:\n",
    "            raise ValueError(f\"Symptom '{symptom}' not recognized. Please check the input.\")\n",
    "\n",
    "    input_data = np.array(input_data).reshape(1, -1)\n",
    "    \n",
    "    rf_prediction = data_dict[\"predictions_classes\"][rf_model.predict(input_data)[0]]\n",
    "\n",
    "    return  rf_prediction\n"
   ]
  },
  {
   "cell_type": "code",
   "execution_count": 20,
   "metadata": {},
   "outputs": [
    {
     "name": "stdout",
     "output_type": "stream",
     "text": [
      "endometrial cancer\n"
     ]
    },
    {
     "name": "stderr",
     "output_type": "stream",
     "text": [
      "C:\\Users\\med chouchen\\AppData\\Roaming\\Python\\Python313\\site-packages\\sklearn\\utils\\validation.py:2739: UserWarning: X does not have valid feature names, but RandomForestClassifier was fitted with feature names\n",
      "  warnings.warn(\n"
     ]
    }
   ],
   "source": [
    "try:\n",
    "    result = predictDisease(\"depression,sharp chest pain, skin growth, hot flashes\")\n",
    "    print(result)\n",
    "except ValueError as e:\n",
    "    print(e)"
   ]
  }
 ],
 "metadata": {
  "kernelspec": {
   "display_name": "Python 3",
   "language": "python",
   "name": "python3"
  },
  "language_info": {
   "codemirror_mode": {
    "name": "ipython",
    "version": 3
   },
   "file_extension": ".py",
   "mimetype": "text/x-python",
   "name": "python",
   "nbconvert_exporter": "python",
   "pygments_lexer": "ipython3",
   "version": "3.13.1"
  }
 },
 "nbformat": 4,
 "nbformat_minor": 2
}
